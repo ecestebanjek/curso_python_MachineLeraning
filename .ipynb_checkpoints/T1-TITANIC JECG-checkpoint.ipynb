{
 "cells": [
  {
   "cell_type": "markdown",
   "id": "afa1d063",
   "metadata": {},
   "source": [
    "# Carga de datos"
   ]
  },
  {
   "cell_type": "code",
   "execution_count": 1,
   "id": "53b5edd7",
   "metadata": {},
   "outputs": [],
   "source": [
    "%config IPCompleter.greedy=True"
   ]
  },
  {
   "cell_type": "code",
   "execution_count": 29,
   "id": "9eabbde6",
   "metadata": {},
   "outputs": [],
   "source": [
    "import pandas as pd\n",
    "import numpy as np\n",
    "import os"
   ]
  },
  {
   "cell_type": "code",
   "execution_count": 37,
   "id": "6cad3c8c",
   "metadata": {},
   "outputs": [],
   "source": [
    "mainpath = r\"E:\\MI PC - ESTEBAN C\\Google Drive\\ESTUDIOS\\CURSOS DATA\\UDEMY\\MACHINE LEARNING - PYTHON\\python-ml-course-master\"\n",
    "filename = r\"\\datasets\\titanic\\titanic3.csv\"\n",
    "fullpath = mainpath + filename\n",
    "fullpath = os.path.join(fullpath)"
   ]
  },
  {
   "cell_type": "code",
   "execution_count": 5,
   "id": "9f0110f0",
   "metadata": {},
   "outputs": [],
   "source": [
    "data = pd.read_csv(r'E:\\MI PC - ESTEBAN C\\Google Drive\\ESTUDIOS\\CURSOS DATA\\UDEMY\\MACHINE LEARNING - PYTHON\\python-ml-course-master\\datasets\\titanic\\titanic3.csv')"
   ]
  },
  {
   "cell_type": "markdown",
   "id": "0e307131",
   "metadata": {},
   "source": [
    "### Posibles parámetros de la función pd.read_csv"
   ]
  },
  {
   "cell_type": "code",
   "execution_count": null,
   "id": "7a5cef08",
   "metadata": {},
   "outputs": [],
   "source": [
    "pd.read_csv(filepath=r'E:\\MI PC - ESTEBAN C\\Google Drive\\ESTUDIOS\\CURSOS DATA\\UDEMY\\MACHINE LEARNING - PYTHON\\python-ml-course-master\\datasets\\titanic\\titanic3.csv',\n",
    "            sep = \",\",\n",
    "            dtype = None, #Se puede especificar mediante un diccionario el nombre y tipo de cada columna\n",
    "            header = None, #Especifica en que fila se encuentra el encabezado\n",
    "            names = None, #Especificar los nombres de las columnas\n",
    "            skiprows = 12,\n",
    "            index_col==None,\n",
    "            skip_blank_lines = False,\n",
    "            na_filter= False)"
   ]
  },
  {
   "cell_type": "code",
   "execution_count": 38,
   "id": "0a7ebf2c",
   "metadata": {},
   "outputs": [],
   "source": [
    "data = pd.read_csv(fullpath)"
   ]
  },
  {
   "cell_type": "markdown",
   "id": "6e38711b",
   "metadata": {},
   "source": [
    "## Carga de datos a traves de la función open"
   ]
  },
  {
   "cell_type": "code",
   "execution_count": 40,
   "id": "dd7c889c",
   "metadata": {},
   "outputs": [],
   "source": [
    "data_open = open(fullpath, \"r\")"
   ]
  },
  {
   "cell_type": "code",
   "execution_count": 47,
   "id": "7ff02026",
   "metadata": {
    "collapsed": true
   },
   "outputs": [
    {
     "data": {
      "text/plain": [
       "['1',\n",
       " '0',\n",
       " '\"Allison',\n",
       " ' Miss. Helen Loraine\"',\n",
       " 'female',\n",
       " '2',\n",
       " '1',\n",
       " '2',\n",
       " '113781',\n",
       " '151.5500',\n",
       " 'C22 C26',\n",
       " 'S',\n",
       " '',\n",
       " '',\n",
       " '\"Montreal',\n",
       " ' PQ / Chesterville',\n",
       " ' ON\"']"
      ]
     },
     "execution_count": 47,
     "metadata": {},
     "output_type": "execute_result"
    }
   ],
   "source": [
    "cols = data_open.readline().strip().split(\",\")\n",
    "n_cols = len(cols)\n",
    "cols"
   ]
  },
  {
   "cell_type": "code",
   "execution_count": 53,
   "id": "aa829dd9",
   "metadata": {},
   "outputs": [
    {
     "data": {
      "text/plain": [
       "{'1': [],\n",
       " '0': [],\n",
       " '\"Allison': [],\n",
       " ' Miss. Helen Loraine\"': [],\n",
       " 'female': [],\n",
       " '2': [],\n",
       " '113781': [],\n",
       " '151.5500': [],\n",
       " 'C22 C26': [],\n",
       " 'S': [],\n",
       " '': [],\n",
       " '\"Montreal': [],\n",
       " ' PQ / Chesterville': [],\n",
       " ' ON\"': []}"
      ]
     },
     "execution_count": 53,
     "metadata": {},
     "output_type": "execute_result"
    }
   ],
   "source": [
    "counter = 0\n",
    "main_dicc = {}\n",
    "for col in cols:\n",
    "    main_dicc[col] = []\n",
    "main_dicc"
   ]
  },
  {
   "cell_type": "code",
   "execution_count": 66,
   "id": "c555ea12",
   "metadata": {},
   "outputs": [
    {
     "name": "stdout",
     "output_type": "stream",
     "text": [
      "El dataset tiene 1301 filas y 17 columnas\n"
     ]
    }
   ],
   "source": [
    "for line in data_open:\n",
    "    values = line.strip().split(\",\")\n",
    "    for i in range(len(cols)):\n",
    "        main_dicc[cols[i]].append(values[i])\n",
    "    counter = counter+ 1\n",
    "print(\"El dataset tiene %d filas y %d columnas\" % (counter, n_cols))"
   ]
  },
  {
   "cell_type": "code",
   "execution_count": null,
   "id": "2cf116f8",
   "metadata": {},
   "outputs": [],
   "source": []
  },
  {
   "cell_type": "code",
   "execution_count": null,
   "id": "1e9c4ad8",
   "metadata": {},
   "outputs": [],
   "source": []
  },
  {
   "cell_type": "code",
   "execution_count": null,
   "id": "58662130",
   "metadata": {},
   "outputs": [],
   "source": []
  }
 ],
 "metadata": {
  "kernelspec": {
   "display_name": "Python 3",
   "language": "python",
   "name": "python3"
  },
  "language_info": {
   "codemirror_mode": {
    "name": "ipython",
    "version": 3
   },
   "file_extension": ".py",
   "mimetype": "text/x-python",
   "name": "python",
   "nbconvert_exporter": "python",
   "pygments_lexer": "ipython3",
   "version": "3.8.8"
  }
 },
 "nbformat": 4,
 "nbformat_minor": 5
}
